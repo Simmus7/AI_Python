{
  "nbformat": 4,
  "nbformat_minor": 0,
  "metadata": {
    "colab": {
      "name": "IA_ConnectFourGame_MIN_MAX_Algorithm.ipynb",
      "provenance": [],
      "collapsed_sections": [
        "r9l5d2Vje3wN",
        "KRziyHwhe6LS"
      ],
      "authorship_tag": "ABX9TyMMJ2Cz1XtIID1+ZMp1DDWP",
      "include_colab_link": true
    },
    "kernelspec": {
      "name": "python3",
      "display_name": "Python 3"
    },
    "language_info": {
      "name": "python"
    }
  },
  "cells": [
    {
      "cell_type": "markdown",
      "metadata": {
        "id": "view-in-github",
        "colab_type": "text"
      },
      "source": [
        "<a href=\"https://colab.research.google.com/github/Simmus7/IA_Python/blob/main/IA_ConnectFourGame_MIN_MAX_Algorithm.ipynb\" target=\"_parent\"><img src=\"https://colab.research.google.com/assets/colab-badge.svg\" alt=\"Open In Colab\"/></a>"
      ]
    },
    {
      "cell_type": "code",
      "execution_count": null,
      "metadata": {
        "id": "C94wugcKeJ-d"
      },
      "outputs": [],
      "source": [
        "import pydot\n",
        "from IPython.display import Image, display\n",
        "import queue\n",
        "import numpy as np"
      ]
    },
    {
      "cell_type": "markdown",
      "source": [
        "#Clase Node"
      ],
      "metadata": {
        "id": "r9l5d2Vje3wN"
      }
    },
    {
      "cell_type": "code",
      "source": [
        "class Node ():\n",
        "  def __init__(self, state,value,operators,operator=None, parent=None,objective=None):\n",
        "    self.state= state\n",
        "    self.value = value\n",
        "    self.children = []\n",
        "    self.parent=parent\n",
        "    self.operator=operator\n",
        "    self.objective=objective\n",
        "    self.level=0\n",
        "    self.operators=operators\n",
        "    self.v=0\n",
        "\n",
        "  def add_child(self, value, state, operator):\n",
        "    node=type(self)(value=value, state=state, operator=operator,parent=self,operators=self.operators)\n",
        "    node.level=node.parent.level+1\n",
        "    self.children.append(node)\n",
        "    return node\n",
        "  \n",
        "  def add_node_child(self, node):\n",
        "    node.level=node.parent.level+1\n",
        "    self.children.append(node)    \n",
        "    return node\n",
        "\n",
        "  def getchildrens(self):\n",
        "    return [\n",
        "        self.getState(i) \n",
        "          if not self.repeatStatePath(self.getState(i)) \n",
        "            else None for i, op in enumerate(self.operators)]\n",
        "\n",
        "  def getState(self, index):\n",
        "    pass\n",
        "  #Qué son eq y it?\n",
        "  def __eq__(self, other):\n",
        "    return self.state == other.state\n",
        " \n",
        "  def __lt__(self, other):\n",
        "    return self.f() < other.f()\n",
        "   \n",
        "  def repeatStatePath(self, state):\n",
        "      n=self\n",
        "      while n is not None and n.state!=state:\n",
        "          n=n.parent\n",
        "      return n is not None\n",
        "    \n",
        "  def pathObjective(self):\n",
        "      n=self\n",
        "      result=[]\n",
        "      while n is not None:\n",
        "          result.append(n)\n",
        "          n=n.parent\n",
        "      return result\n",
        "  \n",
        "  def heuristic(self):\n",
        "    return 0\n",
        "  \n",
        "  def cost(self):\n",
        "    return 1\n",
        "\n",
        "  def f(self): \n",
        "    return self.cost()+self.heuristic()\n",
        "\n",
        "  def isObjective(self):\n",
        "    return (self.state==self.objetive.state)\n"
      ],
      "metadata": {
        "id": "u-ycFyPTefyf"
      },
      "execution_count": null,
      "outputs": []
    },
    {
      "cell_type": "markdown",
      "source": [
        "#Clase Tree"
      ],
      "metadata": {
        "id": "KRziyHwhe6LS"
      }
    },
    {
      "cell_type": "code",
      "source": [
        "class Tree ():\n",
        "  def __init__(self, root ,operators):\n",
        "    self.root=root\n",
        "    self.operators=operators\n",
        "\n",
        "  def printPath(self,n):\n",
        "    stack=n.pathObjective()\n",
        "    path=stack.copy()\n",
        "    while len(stack)!=0:\n",
        "        node=stack.pop()\n",
        "        if node.operator is not None:\n",
        "            print(f'operador:  {self.operators[node.operator]} \\t estado: {node.state}')\n",
        "        else:\n",
        "            print(f' {node.state}')\n",
        "    return path\n",
        "\n",
        "  def reinitRoot(self):\n",
        "    self.root.operator=None\n",
        "    self.root.parent=None\n",
        "    self.root.objective=None\n",
        "    self.root.children = []\n",
        "    self.root.level=0\n",
        "    \n",
        "  def miniMax(self, depth):\n",
        "    self.root.v=self.miniMaxR(self.root, depth, self.root.player)\n",
        "    ## Comparar los hijos de root\n",
        "    values=[c.v for c in self.root.children]\n",
        "    if self.root.player:\n",
        "      maxvalue=max(values)\n",
        "      index=values.index(maxvalue)\n",
        "    else:\n",
        "      minValue=min(values)\n",
        "      index=values.index(minValue)\n",
        "\n",
        "    return self.root.children[index]\n",
        "\n",
        "  def miniMaxR(self, node, depth, maxPlayer):\n",
        "    #Condición de parada\n",
        "    if depth==0 or node.isObjective():\n",
        "      node.v=node.heuristic()\n",
        "      return node.heuristic()\n",
        "    ## Generar los hijos del nodo\n",
        "    children=node.getchildrens()\n",
        "    \n",
        "    ## Según el jugador que sea en el árbol\n",
        "    if maxPlayer:\n",
        "      value=float('-inf')\n",
        "      for i,child in enumerate(children):\n",
        "        if child is not None:\n",
        "          newChild=type(self.root)(value=node.value+'-'+str(i),state=child,operator=i,parent=node, \n",
        "                                   operators=node.operators,player=False)\n",
        "          newChild=node.add_node_child(newChild)\n",
        "          value=max(value,self.miniMaxR(newChild,depth-1,False))\n",
        "    else:\n",
        "      value=float('inf')\n",
        "      for i,child in enumerate(children):\n",
        "        if child is not None:\n",
        "          newChild=type(self.root)(value=node.value+'-'+str(i),state=child,operator=i,parent=node,\n",
        "                                   operators=node.operators,player=True)\n",
        "          newChild=node.add_node_child(newChild)\n",
        "          value=min(value,self.miniMaxR(newChild,depth-1,True))\n",
        "    node.v=value\n",
        "    return value\n",
        "\n",
        "  def alpha_beta(self, depth):\n",
        "    self.root.v= self.alpha_betaR(self.root, depth, float('-inf'), float('+inf'), self.root.player)\n",
        "    values=[c.v for c in self.root.children]\n",
        "    if self.root.player:\n",
        "      maxvalue=max(values)\n",
        "      index=values.index(maxvalue)\n",
        "    else:\n",
        "      minValue=min(values)\n",
        "      index=values.index(minValue)\n",
        "\n",
        "    return self.root.children[index]\n",
        " \n",
        "  \n",
        "  def alpha_betaR(self, node, depth, alpha, beta, player):\n",
        "    if depth == 0 or node.isObjective():\n",
        "       node.v = node.heuristic()\n",
        "       return node.heuristic()\n",
        "    if player:\n",
        "      value=float('-inf')\n",
        "      children = node.getchildrens()\n",
        "      for i,child in enumerate(children):\n",
        "        if child is not None:\n",
        "          newChild=type(self.root)(value=node.value+'-'+str(i),state=child,operator=i,parent=node, operators=node.operators,player=False)\n",
        "          newChild=node.add_node_child(newChild)\n",
        "          value = max(value,self.alpha_betaR(newChild, depth-1, alpha,beta,False))\n",
        "          alpha = max(alpha,value)\n",
        "          if alpha>=beta:\n",
        "            break\n",
        "     \n",
        "    else:\n",
        "      value=float('inf')\n",
        "      children = node.getchildrens()\n",
        "      for i,child in enumerate(children):\n",
        "        if child is not None:\n",
        "          newChild=type(self.root)(value=node.value+'-'+str(i),state=child,operator=i,parent=node, operators=node.operators,player=True)\n",
        "          newChild=node.add_node_child(newChild)\n",
        "          value = min(value,self.alpha_betaR(newChild, depth-1, alpha,beta,True))\n",
        "          beta = min(beta,value)\n",
        "          if alpha>=beta:\n",
        "            break\n",
        "    node.v = value\n",
        "    return value\n",
        "\n",
        "  ## Método para dibujar el árbol        \n",
        "  def draw(self,path):\n",
        "    graph = pydot.Dot(graph_type='graph')\n",
        "    nodeGraph=pydot.Node(str(self.root.state)+\"-\"+str(0),\n",
        "                          label=str(self.root.state),shape =\"circle\", \n",
        "                          style=\"filled\", fillcolor=\"red\")\n",
        "    graph.add_node(nodeGraph)\n",
        "    path.pop()\n",
        "    return self.drawTreeRec(self.root,nodeGraph,graph,0,path.pop(),path)\n",
        "  \n",
        "  ## Método recursivo para dibujar el árbol  \n",
        "  def drawTreeRec(self,r,rootGraph,graph,i,topPath,path):\n",
        "    if r is not None:\n",
        "      children=r.children\n",
        "      for j,child in enumerate(children):\n",
        "        i=i+1\n",
        "        color=\"white\"\n",
        "        if topPath.value==child.value:\n",
        "          if len(path)>0:topPath=path.pop()\n",
        "          color='red'\n",
        "        c=pydot.Node(child.value,label=str(child.state)+r\"\\n\"+r\"\\n\"+\"f=\"+str(child.heuristic())+r\"\\n\"+str(child.v), \n",
        "                      shape =\"circle\", style=\"filled\", \n",
        "                      fillcolor=color)\n",
        "        graph.add_node(c)\n",
        "        graph.add_edge(pydot.Edge(rootGraph, c, \n",
        "                                  label=str(child.operator)+'('+str(child.cost())+')'))\n",
        "        graph=self.drawTreeRec(child,c,graph,i,topPath,path)  # recursive call\n",
        "      return graph\n",
        "    else:\n",
        "      return graph  "
      ],
      "metadata": {
        "id": "QUDaV9IVepdz"
      },
      "execution_count": null,
      "outputs": []
    },
    {
      "cell_type": "markdown",
      "source": [
        "#Clase NodeConnectFour"
      ],
      "metadata": {
        "id": "6vX-Uco0l9J3"
      }
    },
    {
      "cell_type": "code",
      "source": [
        "class NodeConnectFour(Node):\n",
        "\n",
        "  def __init__(self, player=True,**kwargs):\n",
        "    super(NodeConnectFour, self).__init__(**kwargs)\n",
        "    self.player=player\n",
        "    if player:\n",
        "      self.v=float('-inf')\n",
        "    else:\n",
        "      self.v=float('inf')\n",
        "  \n",
        "  def getState(self, index):\n",
        "    state=self.state\n",
        "    nextState=None\n",
        "\n",
        "    columnToPlay = state[index].copy()\n",
        "\n",
        "    #If column last position is not empty, the play is ilegal\n",
        "    if columnToPlay[-1] != 0:\n",
        "      return nextState\n",
        "    \n",
        "    lastEmpty = -1\n",
        "    for i, number in enumerate(columnToPlay):\n",
        "      if number != 0:\n",
        "        lastEmpty = i+1\n",
        "        break\n",
        "    #If lastEmpty wasn't modified that means the column is fill full of 0s. The play can be done in the first available position\n",
        "    if lastEmpty == -1:\n",
        "      lastEmpty = 0\n",
        "    \n",
        "    columnToPlay[lastEmpty] = 1 if self.player else 2\n",
        "\n",
        "    nextState = [r.copy() for r in state]\n",
        "    nextState[index] = columnToPlay\n",
        "    \n",
        "    return nextState if state!=nextState else None\n",
        "\n",
        "  #Costo acumulativo(valor 1 en cada nivel)\n",
        "  def cost(self):\n",
        "    return self.level\n",
        "  \n",
        "  ##Ver si el nodo es un nodo objetivo para O o para X, o hay empate\n",
        "  def isObjective(self):\n",
        "    a=[f.copy() for f in self.state]\n",
        "    b=np.array(a).T\n",
        "    a.append(np.diag(self.state))\n",
        "    a.append(np.flipud(self.state).diagonal())\n",
        "    a=np.array(a)\n",
        "    c=np.concatenate((a,b),axis=0)\n",
        "\n",
        "    for f in c:\n",
        "      if f[0]!=' ' and all(x == f[0] for x in f):\n",
        "        return True\n",
        "    ### Empate\n",
        "    if not np.in1d([' '], self.state):\n",
        "      return True\n",
        "    return False \n",
        "\n",
        "  def heuristic(self):\n",
        "    return 0"
      ],
      "metadata": {
        "id": "0bNZjmi3e807"
      },
      "execution_count": null,
      "outputs": []
    },
    {
      "cell_type": "markdown",
      "source": [
        "#Gameplay"
      ],
      "metadata": {
        "id": "TnEByQYFfqB8"
      }
    },
    {
      "cell_type": "code",
      "source": [
        "b_rows = 6\n",
        "b_cols = 7\n",
        "\n",
        "initState = [[0 for i in range(b_rows)] for j in range(b_cols)]\n",
        "\n",
        "initState"
      ],
      "metadata": {
        "colab": {
          "base_uri": "https://localhost:8080/"
        },
        "id": "vwtFKN3LfuQQ",
        "outputId": "78c74527-5fe9-45fe-da71-3ee6fdedbae5"
      },
      "execution_count": null,
      "outputs": [
        {
          "output_type": "execute_result",
          "data": {
            "text/plain": [
              "[[0, 0, 0, 0, 0, 0],\n",
              " [0, 0, 0, 0, 0, 0],\n",
              " [0, 0, 0, 0, 0, 0],\n",
              " [0, 0, 0, 0, 0, 0],\n",
              " [0, 0, 0, 0, 0, 0],\n",
              " [0, 0, 0, 0, 0, 0],\n",
              " [0, 0, 0, 0, 0, 0]]"
            ]
          },
          "metadata": {},
          "execution_count": 38
        }
      ]
    },
    {
      "cell_type": "code",
      "source": [
        "operators = [i for i, f in enumerate(initState)]\n",
        "operators"
      ],
      "metadata": {
        "colab": {
          "base_uri": "https://localhost:8080/"
        },
        "id": "NkcWRajBjLHu",
        "outputId": "8651e7fd-cd3f-4769-9e20-58f5fd422db8"
      },
      "execution_count": null,
      "outputs": [
        {
          "output_type": "execute_result",
          "data": {
            "text/plain": [
              "[0, 1, 2, 3, 4, 5, 6]"
            ]
          },
          "metadata": {},
          "execution_count": 28
        }
      ]
    },
    {
      "cell_type": "code",
      "source": [
        "initState[0][0]=2\n",
        "\n",
        "nodeInit=NodeConnectFour(True,value=\"\",state=initState, operators = operators)\n",
        "\n",
        "a = nodeInit.getState(1)\n",
        "a"
      ],
      "metadata": {
        "colab": {
          "base_uri": "https://localhost:8080/"
        },
        "id": "9nX_S3UPode-",
        "outputId": "de72fcdd-7114-4770-b05f-440c752fd6d1"
      },
      "execution_count": null,
      "outputs": [
        {
          "output_type": "execute_result",
          "data": {
            "text/plain": [
              "[[2, 0, 0, 0, 0, 0],\n",
              " [1, 0, 0, 0, 0, 0],\n",
              " [0, 0, 0, 0, 0, 0],\n",
              " [0, 0, 0, 0, 0, 0],\n",
              " [0, 0, 0, 0, 0, 0],\n",
              " [0, 0, 0, 0, 0, 0],\n",
              " [0, 0, 0, 0, 0, 0]]"
            ]
          },
          "metadata": {},
          "execution_count": 41
        }
      ]
    }
  ]
}