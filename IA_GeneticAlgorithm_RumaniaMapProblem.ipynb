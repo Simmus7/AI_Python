{
  "nbformat": 4,
  "nbformat_minor": 0,
  "metadata": {
    "colab": {
      "name": "IA_GeneticAlgorithm_RumaniaMapProblem.ipynb",
      "provenance": [],
      "authorship_tag": "ABX9TyN4NMt0u33AiFarVfoqB3iS",
      "include_colab_link": true
    },
    "kernelspec": {
      "name": "python3",
      "display_name": "Python 3"
    },
    "language_info": {
      "name": "python"
    }
  },
  "cells": [
    {
      "cell_type": "markdown",
      "metadata": {
        "id": "view-in-github",
        "colab_type": "text"
      },
      "source": [
        "<a href=\"https://colab.research.google.com/github/Simmus7/AI_Python/blob/main/IA_GeneticAlgorithm_RumaniaMapProblem.ipynb\" target=\"_parent\"><img src=\"https://colab.research.google.com/assets/colab-badge.svg\" alt=\"Open In Colab\"/></a>"
      ]
    },
    {
      "cell_type": "code",
      "source": [
        "from operator import truediv\n",
        "import random\n",
        "import numpy as np\n",
        "import pandas as pd"
      ],
      "metadata": {
        "id": "gOSJEa3pEPYZ"
      },
      "execution_count": 1,
      "outputs": []
    },
    {
      "cell_type": "code",
      "source": [
        "class City ():\n",
        "  def __init__ (self, name):\n",
        "    self.name = name\n",
        "    self.brothers = []\n",
        "    self.distances = []\n",
        "    self.brothers_names = []\n",
        "\n",
        "  def add_brother_with_distance(self, brother, distance):\n",
        "    self.brothers.append(brother)\n",
        "    self.distances.append(distance)\n",
        "    self.update_brothers_names()\n",
        "\n",
        "  def update_brothers_names (self):\n",
        "    aux_brother_names = []\n",
        "    for b in self.brothers:\n",
        "      aux_brother_names.append(b.name)\n",
        "    self.brothers_names = aux_brother_names\n",
        "\n",
        "  def get_brother_by_name (self, brother_name):\n",
        "    if brother_name in self.brothers_names:\n",
        "      return self.brothers[self.brothers_names.index(brother_name)]\n",
        "    else:\n",
        "      return None\n",
        "  \n",
        "  def get_distance_to_brother(self, brother_name):\n",
        "    if brother_name in self.brothers_names:\n",
        "      return self.distances[self.brothers_names.index(brother_name)]\n",
        "    else:\n",
        "      return None\n"
      ],
      "metadata": {
        "id": "ckzaOmo6EQUu"
      },
      "execution_count": 2,
      "outputs": []
    },
    {
      "cell_type": "code",
      "source": [
        "def getRumaniaMap ():\n",
        "  Arad = City('Arad')\n",
        "  Bucharest = City('Bucharest')\n",
        "  Craiova = City('Craiova')\n",
        "  Drobeta = City('Drobeta')\n",
        "  Eforie = City('Eforie')\n",
        "  Fagaras = City('Fagaras')\n",
        "  Giurgiu = City('Giurgiu')\n",
        "  Hirsova = City('Hirsova')\n",
        "  Mehadia = City('Mehadia')\n",
        "  Iasi = City('Iasi ')\n",
        "  Lugoj = City('Lugoj')\n",
        "  Oradea = City('Oradea')\n",
        "  Pitesti = City('Pitesti')\n",
        "  Rimnicu = City('Rimnicu')\n",
        "  Urziceni = City('Urziceni')\n",
        "  Vaslui = City ('Vaslui')\n",
        "  Neamt = City ('Neamt')\n",
        "  Sibiu = City ('Sibiu')\n",
        "  Timisoara = City('Timisoara')\n",
        "  Zerind = City('Zerind')\n",
        "\n",
        "  \n",
        "\n",
        "  Arad.add_brother_with_distance(Zerind, 75)\n",
        "  Arad.add_brother_with_distance(Sibiu, 140)\n",
        "  Arad.add_brother_with_distance(Timisoara, 118)\n",
        "\n",
        "  Bucharest.add_brother_with_distance(Urziceni, 85)\n",
        "  Bucharest.add_brother_with_distance(Pitesti, 101)\n",
        "  Bucharest.add_brother_with_distance(Giurgiu, 90)\n",
        "  Bucharest.add_brother_with_distance(Fagaras, 211)\n",
        "\n",
        "  Craiova.add_brother_with_distance(Drobeta, 120)\n",
        "  Craiova.add_brother_with_distance(Rimnicu, 146)\n",
        "  Craiova.add_brother_with_distance(Pitesti, 138)\n",
        "\n",
        "  Drobeta.add_brother_with_distance(Craiova, 120)\n",
        "  Drobeta.add_brother_with_distance(Mehadia, 75)\n",
        "\n",
        "  Eforie.add_brother_with_distance(Hirsova, 86)\n",
        "\n",
        "  Fagaras.add_brother_with_distance(Bucharest, 211)\n",
        "  Fagaras.add_brother_with_distance(Sibiu, 99)\n",
        "\n",
        "  Hirsova.add_brother_with_distance(Eforie, 86)\n",
        "  Hirsova.add_brother_with_distance(Urziceni, 98)\n",
        "\n",
        "  Iasi.add_brother_with_distance(Vaslui, 92)\n",
        "  Iasi.add_brother_with_distance(Neamt, 87)\n",
        "\n",
        "  Neamt.add_brother_with_distance(Iasi, 87)\n",
        "\n",
        "  Mehadia.add_brother_with_distance(Drobeta, 75)\n",
        "  Mehadia.add_brother_with_distance(Lugoj, 70)\n",
        "\n",
        "  Lugoj.add_brother_with_distance(Timisoara, 111)\n",
        "  Lugoj.add_brother_with_distance(Mehadia, 70)\n",
        "\n",
        "  Oradea.add_brother_with_distance(Zerind, 71)\n",
        "  Oradea.add_brother_with_distance(Sibiu, 151)\n",
        "\n",
        "  Pitesti.add_brother_with_distance(Bucharest, 101)\n",
        "  Pitesti.add_brother_with_distance(Craiova, 138)\n",
        "  Pitesti.add_brother_with_distance(Rimnicu, 97)\n",
        "\n",
        "  Giurgiu.add_brother_with_distance(Bucharest, 90)\n",
        "\n",
        "  Rimnicu.add_brother_with_distance(Craiova, 146)\n",
        "  Rimnicu.add_brother_with_distance(Pitesti, 97)\n",
        "  Rimnicu.add_brother_with_distance(Sibiu, 80)\n",
        "\n",
        "  Sibiu.add_brother_with_distance(Arad, 140)\n",
        "  Sibiu.add_brother_with_distance(Fagaras, 99)\n",
        "  Sibiu.add_brother_with_distance(Oradea, 151)\n",
        "  Sibiu.add_brother_with_distance(Rimnicu, 80)\n",
        "\n",
        "  Timisoara.add_brother_with_distance(Arad, 118)\n",
        "  Timisoara.add_brother_with_distance(Lugoj, 111)\n",
        "\n",
        "  Urziceni.add_brother_with_distance(Bucharest, 85)\n",
        "  Urziceni.add_brother_with_distance(Hirsova, 98)\n",
        "  Urziceni.add_brother_with_distance(Vaslui, 142)\n",
        "\n",
        "  Vaslui.add_brother_with_distance(Iasi, 92)\n",
        "  Vaslui.add_brother_with_distance(Urziceni, 142)\n",
        "\n",
        "  Zerind.add_brother_with_distance(Arad, 75)\n",
        "  Zerind.add_brother_with_distance(Oradea, 71)\n",
        "\n",
        "  all_cities = dict(\n",
        "    Arad=Arad,\n",
        "    Bucharest=Bucharest,\n",
        "    Craiova=Craiova,\n",
        "    Drobeta=Drobeta,\n",
        "    Eforie=Eforie,\n",
        "    Fagaras=Fagaras,\n",
        "    Giurgiu=Giurgiu,\n",
        "    Hirsova=Hirsova,\n",
        "    Mehadia=Mehadia,\n",
        "    Iasi=Iasi,\n",
        "    Lugoj=Lugoj,\n",
        "    Oradea=Oradea,\n",
        "    Pitesti=Pitesti,\n",
        "    Rimnicu=Rimnicu,\n",
        "    Urziceni=Urziceni,\n",
        "    Vaslui=Vaslui,\n",
        "    Neamt=Neamt,\n",
        "    Sibiu=Sibiu,\n",
        "    Timisoara=Timisoara,\n",
        "    Zerind=Zerind)\n",
        "\n",
        "  return all_cities"
      ],
      "metadata": {
        "id": "mZ5uxdT4EUfH"
      },
      "execution_count": 3,
      "outputs": []
    },
    {
      "cell_type": "code",
      "source": [
        "all_cities = getRumaniaMap()\n",
        "initial_city = 'Arad'\n",
        "final_city = 'Bucharest'\n",
        "valid_cities_keys = [key for key in all_cities if key != initial_city and key != final_city]\n",
        "\n",
        "N = 2\n",
        "NP = 1000"
      ],
      "metadata": {
        "id": "S_cFIvHTEbJn"
      },
      "execution_count": 4,
      "outputs": []
    },
    {
      "cell_type": "code",
      "source": [
        "def generatePopulation(N, NP):\n",
        "  population = []\n",
        "  for i in range(NP):\n",
        "    chromosome = []\n",
        "    while len(chromosome) < N:\n",
        "      ran_city = random.choice(valid_cities_keys)\n",
        "      if not ran_city in chromosome:\n",
        "        chromosome.append(ran_city)\n",
        "    population.append(chromosome)\n",
        "  return population\n",
        "\n",
        "def fitnessForValid (valid_chromosome):\n",
        "  #First add the distance from the initial city and to the final city, then add the distances for the cities between\n",
        "  totalDistance = 0\n",
        "  totalDistance += all_cities[valid_chromosome[0]].get_distance_to_brother(initial_city)\n",
        "  totalDistance += all_cities[valid_chromosome[-1]].get_distance_to_brother(final_city)\n",
        "\n",
        "  count = 0\n",
        "  for i, city_name in  enumerate(valid_chromosome):\n",
        "    next_city = valid_chromosome[i+1]\n",
        "    totalDistance += all_cities[city_name].get_distance_to_brother(next_city)\n",
        "    count += 1\n",
        "    if count == len(valid_chromosome)-2:\n",
        "      return totalDistance\n",
        "\n",
        "def isValid (chromosome):\n",
        "  if initial_city in all_cities[chromosome[0]].brothers_names and final_city in all_cities[chromosome[-1]].brothers_names:\n",
        "    count = 0\n",
        "    for city_name in chromosome:\n",
        "      next_city = chromosome[count+1]\n",
        "      if all_cities[city_name].get_brother_by_name(next_city) is None:\n",
        "        return False\n",
        "      if count == len(chromosome)-2:\n",
        "        return True\n",
        "      count += 1\n",
        "  return False\n",
        "\n",
        "def getValidChromosomes (population):\n",
        "  valid_chromosomes = []\n",
        "  for c in population:\n",
        "    if isValid(c):\n",
        "      valid_chromosomes.append(c)\n",
        "  return valid_chromosomes\n"
      ],
      "metadata": {
        "id": "rHh0Fjn0Eet7"
      },
      "execution_count": 5,
      "outputs": []
    },
    {
      "cell_type": "code",
      "source": [
        "valid_populations = getValidChromosomes(generatePopulation(N, NP))\n",
        "print(valid_populations)"
      ],
      "metadata": {
        "colab": {
          "base_uri": "https://localhost:8080/"
        },
        "id": "cq_wjJi5EhUJ",
        "outputId": "224b3785-88bd-40af-cd1f-f6ff547b6c5d"
      },
      "execution_count": 13,
      "outputs": [
        {
          "output_type": "stream",
          "name": "stdout",
          "text": [
            "[['Sibiu', 'Fagaras'], ['Sibiu', 'Fagaras'], ['Sibiu', 'Fagaras'], ['Sibiu', 'Fagaras'], ['Sibiu', 'Fagaras'], ['Sibiu', 'Fagaras'], ['Sibiu', 'Fagaras']]\n"
          ]
        }
      ]
    }
  ]
}